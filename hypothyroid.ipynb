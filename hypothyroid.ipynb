{
 "cells": [
  {
   "cell_type": "code",
   "execution_count": 1,
   "metadata": {
    "collapsed": true
   },
   "outputs": [
    {
     "data": {
      "text/plain": "    age   sex on thyroxine query on thyroxine on antithyroid medication  sick  \\\n0  41.0  b'F'         b'f'               b'f'                      b'f'  b'f'   \n1  23.0  b'F'         b'f'               b'f'                      b'f'  b'f'   \n2  46.0  b'M'         b'f'               b'f'                      b'f'  b'f'   \n3  70.0  b'F'         b't'               b'f'                      b'f'  b'f'   \n4  70.0  b'F'         b'f'               b'f'                      b'f'  b'f'   \n\n  pregnant thyroid surgery I131 treatment query hypothyroid  ... TT4 measured  \\\n0     b'f'            b'f'           b'f'              b'f'  ...         b't'   \n1     b'f'            b'f'           b'f'              b'f'  ...         b't'   \n2     b'f'            b'f'           b'f'              b'f'  ...         b't'   \n3     b'f'            b'f'           b'f'              b'f'  ...         b't'   \n4     b'f'            b'f'           b'f'              b'f'  ...         b't'   \n\n     TT4 T4U measured   T4U FTI measured    FTI TBG measured  TBG  \\\n0  125.0         b't'  1.14         b't'  109.0         b'f'  NaN   \n1  102.0         b'f'   NaN         b'f'    NaN         b'f'  NaN   \n2  109.0         b't'  0.91         b't'  120.0         b'f'  NaN   \n3  175.0         b'f'   NaN         b'f'    NaN         b'f'  NaN   \n4   61.0         b't'  0.87         b't'   70.0         b'f'  NaN   \n\n  referral source  binaryClass  \n0         b'SVHC'         b'P'  \n1        b'other'         b'P'  \n2        b'other'         b'P'  \n3        b'other'         b'P'  \n4          b'SVI'         b'P'  \n\n[5 rows x 30 columns]",
      "text/html": "<div>\n<style scoped>\n    .dataframe tbody tr th:only-of-type {\n        vertical-align: middle;\n    }\n\n    .dataframe tbody tr th {\n        vertical-align: top;\n    }\n\n    .dataframe thead th {\n        text-align: right;\n    }\n</style>\n<table border=\"1\" class=\"dataframe\">\n  <thead>\n    <tr style=\"text-align: right;\">\n      <th></th>\n      <th>age</th>\n      <th>sex</th>\n      <th>on thyroxine</th>\n      <th>query on thyroxine</th>\n      <th>on antithyroid medication</th>\n      <th>sick</th>\n      <th>pregnant</th>\n      <th>thyroid surgery</th>\n      <th>I131 treatment</th>\n      <th>query hypothyroid</th>\n      <th>...</th>\n      <th>TT4 measured</th>\n      <th>TT4</th>\n      <th>T4U measured</th>\n      <th>T4U</th>\n      <th>FTI measured</th>\n      <th>FTI</th>\n      <th>TBG measured</th>\n      <th>TBG</th>\n      <th>referral source</th>\n      <th>binaryClass</th>\n    </tr>\n  </thead>\n  <tbody>\n    <tr>\n      <th>0</th>\n      <td>41.0</td>\n      <td>b'F'</td>\n      <td>b'f'</td>\n      <td>b'f'</td>\n      <td>b'f'</td>\n      <td>b'f'</td>\n      <td>b'f'</td>\n      <td>b'f'</td>\n      <td>b'f'</td>\n      <td>b'f'</td>\n      <td>...</td>\n      <td>b't'</td>\n      <td>125.0</td>\n      <td>b't'</td>\n      <td>1.14</td>\n      <td>b't'</td>\n      <td>109.0</td>\n      <td>b'f'</td>\n      <td>NaN</td>\n      <td>b'SVHC'</td>\n      <td>b'P'</td>\n    </tr>\n    <tr>\n      <th>1</th>\n      <td>23.0</td>\n      <td>b'F'</td>\n      <td>b'f'</td>\n      <td>b'f'</td>\n      <td>b'f'</td>\n      <td>b'f'</td>\n      <td>b'f'</td>\n      <td>b'f'</td>\n      <td>b'f'</td>\n      <td>b'f'</td>\n      <td>...</td>\n      <td>b't'</td>\n      <td>102.0</td>\n      <td>b'f'</td>\n      <td>NaN</td>\n      <td>b'f'</td>\n      <td>NaN</td>\n      <td>b'f'</td>\n      <td>NaN</td>\n      <td>b'other'</td>\n      <td>b'P'</td>\n    </tr>\n    <tr>\n      <th>2</th>\n      <td>46.0</td>\n      <td>b'M'</td>\n      <td>b'f'</td>\n      <td>b'f'</td>\n      <td>b'f'</td>\n      <td>b'f'</td>\n      <td>b'f'</td>\n      <td>b'f'</td>\n      <td>b'f'</td>\n      <td>b'f'</td>\n      <td>...</td>\n      <td>b't'</td>\n      <td>109.0</td>\n      <td>b't'</td>\n      <td>0.91</td>\n      <td>b't'</td>\n      <td>120.0</td>\n      <td>b'f'</td>\n      <td>NaN</td>\n      <td>b'other'</td>\n      <td>b'P'</td>\n    </tr>\n    <tr>\n      <th>3</th>\n      <td>70.0</td>\n      <td>b'F'</td>\n      <td>b't'</td>\n      <td>b'f'</td>\n      <td>b'f'</td>\n      <td>b'f'</td>\n      <td>b'f'</td>\n      <td>b'f'</td>\n      <td>b'f'</td>\n      <td>b'f'</td>\n      <td>...</td>\n      <td>b't'</td>\n      <td>175.0</td>\n      <td>b'f'</td>\n      <td>NaN</td>\n      <td>b'f'</td>\n      <td>NaN</td>\n      <td>b'f'</td>\n      <td>NaN</td>\n      <td>b'other'</td>\n      <td>b'P'</td>\n    </tr>\n    <tr>\n      <th>4</th>\n      <td>70.0</td>\n      <td>b'F'</td>\n      <td>b'f'</td>\n      <td>b'f'</td>\n      <td>b'f'</td>\n      <td>b'f'</td>\n      <td>b'f'</td>\n      <td>b'f'</td>\n      <td>b'f'</td>\n      <td>b'f'</td>\n      <td>...</td>\n      <td>b't'</td>\n      <td>61.0</td>\n      <td>b't'</td>\n      <td>0.87</td>\n      <td>b't'</td>\n      <td>70.0</td>\n      <td>b'f'</td>\n      <td>NaN</td>\n      <td>b'SVI'</td>\n      <td>b'P'</td>\n    </tr>\n  </tbody>\n</table>\n<p>5 rows × 30 columns</p>\n</div>"
     },
     "execution_count": 1,
     "metadata": {},
     "output_type": "execute_result"
    }
   ],
   "source": [
    "from scipy.io import arff\n",
    "import pandas as pd\n",
    "\n",
    "data = arff.loadarff('hypothyroid.arff')\n",
    "df = pd.DataFrame(data[0])\n",
    "\n",
    "df.head()"
   ]
  }
 ],
 "metadata": {
  "kernelspec": {
   "display_name": "Python 3",
   "language": "python",
   "name": "python3"
  },
  "language_info": {
   "codemirror_mode": {
    "name": "ipython",
    "version": 2
   },
   "file_extension": ".py",
   "mimetype": "text/x-python",
   "name": "python",
   "nbconvert_exporter": "python",
   "pygments_lexer": "ipython2",
   "version": "2.7.6"
  }
 },
 "nbformat": 4,
 "nbformat_minor": 0
}
