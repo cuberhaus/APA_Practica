{
 "cells": [
  {
   "cell_type": "markdown",
   "metadata": {},
   "source": [
    "# Práctica APA - Evaluación preliminar del problema\n",
    "\n",
    "## Aplicación del Aprendizaje Automático en la detección de pacientes con Hipotiroidismo\n",
    "\n",
    "### Autores\n",
    "\n",
    "* Pol Casacuberta Gil\n",
    "* Marta Granero i Martí"
   ]
  },
  {
   "cell_type": "markdown",
   "metadata": {},
   "source": [
    "### Elección del conjunto de datos\n",
    "\n",
    "El objetivo de este informe es exponer de forma breve qué tema hemos escogido juntamente con un leve análisis del Dataset asociado al problema que hemos escogido para llevar a cargo la práctica.\n",
    "\n",
    "El dataset a este problema se puede consultar en [OpenML (Open Machine Learning)](https://www.openml.org/search?type=data&status=any&id=1000), una plataforma abierta dónde se encuentran varios conjuntos de datos.\n",
    "\n",
    "Para poder usar este Dataset, hemos comprobado debidamente que no se ha hecho ya un análisis a este problema usando el mismo, buscando notebooks existentes en [Kaggle](https://www.kaggle.com). \n",
    "\n",
    "Solamente hemos encontrado [4 notebooks](https://www.kaggle.com/datasets/kumar012/hypothyroid/code) donde se intenta resolver este problema aunque usando un Dataset distinto. Estos usan un conjunto de datos que cuenta con 26 columnas a diferencia de las 30 del Dataset que hemos escogido y carecen de las columnas que sí que se incluyen en el nuestro, como son: \n",
    "- **hypopituitary** - toma valores: f, t\n",
    "- **psych** - toma valores: f, t\n",
    "- **referral source** - toma valores: SVHC,other,SVI,STMW,SVHD\n",
    "- **binaryClass** - variable respuesta que toma valores: P si es positivo, o N en otro caso\n",
    "\n",
    "Además hemos comprobado que satisfaga todas las condiciones que se exigen, como siguen:\n",
    "\n",
    "* El conjunto de datos tiene variables numéricas y categóricas\n",
    "* El conjunto de datos no se ha generado sintéticamente\n",
    "* El conjunto de datos tiene 30 variables(en estas se incluye la variable respuesta).\n",
    "* Creemos que tenemos suficiente información sobre el problema para entender y analizar los resultados.\n",
    "* El dataset no está preprocesado ya que cuenta con valores Nan i con valores faltantes en la mayoria de muestras del conjunto de datos.\n",
    "* El conjunto de datos contiene más de 3772 muestras.\n",
    "* El problema es lo suficientemente complejo ya que no hemos obtenido un acierto bueno usando naive bayes ni tampoco una R2 casi perfecta\n",
    "\n",
    "#### Descripción del conjunto de datos\n",
    "\n",
    "* Descripción del conjunto de datos\n",
    "\n",
    "Imagino que hem de donar una breu descripció dels atributs\n",
    "\n",
    "#### Variable respuesta\n",
    "\n",
    "Trataremos con un problema de clasificación binária dónde la variable respuesta será: **binaryClass**. Ésta toma valores categóricos: (P,N) en función de sí un paciente es positivo en Hipotiroidismo(P), o N si este no lo es.\n",
    "\n",
    "#### Problemas específicos de los datos\n",
    "\n",
    "* como atributos relacionados con el tiempo y desbalance entre clases."
   ]
  },
  {
   "cell_type": "markdown",
   "metadata": {},
   "source": [
    "### Descripción del problema\n",
    "\n",
    "En esta práctica desarrollaremos varios modelos de clasificación usando distintos algoritmos de ML para resolver el problema real de detección de pacientes con Hipotiroidismo."
   ]
  },
  {
   "cell_type": "markdown",
   "metadata": {},
   "source": [
    "#### Carga de los datos"
   ]
  },
  {
   "cell_type": "markdown",
   "metadata": {},
   "source": [
    "##### Librerías necesarias"
   ]
  },
  {
   "cell_type": "code",
   "execution_count": null,
   "metadata": {},
   "outputs": [],
   "source": [
    "from scipy.io import arff\n",
    "from scipy.stats import normaltest\n",
    "from sklearn.model_selection import train_test_split\n",
    "from IPython.core.interactiveshell import InteractiveShell\n",
    "InteractiveShell.ast_node_interactivity = \"all\"\n",
    "\n",
    "import pandas as pd\n",
    "import seaborn as sns\n",
    "import matplotlib.pyplot as plt\n",
    "import numpy as np\n",
    "import missingno as msno"
   ]
  },
  {
   "cell_type": "code",
   "execution_count": null,
   "metadata": {},
   "outputs": [],
   "source": [
    "data = arff.loadarff('hypothyroid.arff')\n",
    "df = pd.DataFrame(data[0])\n",
    "\n",
    "df.head()"
   ]
  },
  {
   "cell_type": "code",
   "execution_count": null,
   "metadata": {},
   "outputs": [],
   "source": [
    "#Aplicamos un mini procesamiento del Dataframe\n",
    "\n",
    "#Primer tratamiento del DataFrame para pasar las columnas de tipo string a formato utf8, ya que sino teníamos b'f'\n",
    "columnes = df.applymap(lambda col: isinstance(col, bytes)).all(0)\n",
    "columnes = df.columns[columnes]\n",
    "df.loc[:, columnes] = df[columnes].applymap(lambda col: col.decode(\"utf-8\", errors='ignore'))\n",
    "\n",
    "#Cambiamos los valors 'f', 't' por tipos booleanos, False y True resp.\n",
    "df.replace({'t': 1, 'f': 0}, inplace=True)\n",
    "\n",
    "df.head()"
   ]
  },
  {
   "cell_type": "markdown",
   "metadata": {},
   "source": [
    "#### Estadística descriptiva"
   ]
  },
  {
   "cell_type": "code",
   "execution_count": null,
   "metadata": {},
   "outputs": [],
   "source": [
    "#Damos un primer vistazo a los datos y vemos que tenemos valors muchos NaN\n",
    "df.describe(include='all').T\n",
    "\n",
    "#También tenemos muchos missing values, marcados con '?', p.ej:\n",
    "df.sex.unique()\n",
    "df.TBG.unique()\n",
    "df.TBG.count()\n",
    "\n",
    "#Reordenamos y ponemos la variable respuesta primero\n",
    "columnes = list(df.columns)\n",
    "columnes.remove('binaryClass')\n",
    "columnes.insert(0, 'binaryClass')\n",
    "df = df.reindex(columns=columnes)\n",
    "\n",
    "df.head()"
   ]
  },
  {
   "cell_type": "markdown",
   "metadata": {},
   "source": [
    "#### Visualización básica"
   ]
  },
  {
   "cell_type": "code",
   "execution_count": null,
   "metadata": {},
   "outputs": [],
   "source": [
    "#Visualizamos algunos atributos\n",
    "df.loc[:,['age', 'T3', 'TT4', 'T4U']].hist(bins=15, figsize=(10,10));\n",
    "\n",
    "#Comprobamos si las variables numéricas siguen una distribución Normal.\n",
    "print(normaltest(df['age'], nan_policy='omit'))\n",
    "print(normaltest(df['T3'], nan_policy='omit'))\n",
    "\n",
    "\n",
    "df.loc[:,['age', 'T3', 'TT4', 'T4U']].plot.box(figsize=(10,10));"
   ]
  },
  {
   "cell_type": "code",
   "execution_count": null,
   "metadata": {},
   "outputs": [],
   "source": [
    "grafic = sns.catplot(data=df, kind=\"bar\", x=\"sex\", y=\"age\", hue=\"binaryClass\")"
   ]
  },
  {
   "cell_type": "code",
   "execution_count": null,
   "metadata": {},
   "outputs": [],
   "source": [
    "grafic3 = sns.catplot(data=df, kind=\"bar\", x=\"sex\", y=\"age\", hue=\"binaryClass\")"
   ]
  },
  {
   "cell_type": "code",
   "execution_count": null,
   "metadata": {},
   "outputs": [],
   "source": [
    "#Correlación entre distintas variables\n",
    "corr = df.corr()\n",
    "mask = np.triu(np.ones_like(corr, dtype=bool))\n",
    "plt.subplots(figsize=(15, 15))\n",
    "sns.heatmap(corr, mask=mask, cmap='seismic',  center=0, square=True, linewidths=.8, cbar_kws={\"shrink\": .5});"
   ]
  },
  {
   "cell_type": "markdown",
   "metadata": {},
   "source": [
    "#### Partición del Dataset"
   ]
  },
  {
   "cell_type": "code",
   "execution_count": null,
   "metadata": {},
   "outputs": [],
   "source": [
    "df_train, df_test = train_test_split(df, test_size=0.2, random_state=42)\n",
    "\n",
    "df_train.shape, df_test.shape"
   ]
  },
  {
   "cell_type": "markdown",
   "metadata": {},
   "source": [
    "#### Preprocesamiento del Dataset"
   ]
  },
  {
   "cell_type": "code",
   "execution_count": null,
   "metadata": {},
   "outputs": [],
   "source": [
    "df_train.info()"
   ]
  },
  {
   "cell_type": "code",
   "execution_count": null,
   "metadata": {},
   "outputs": [],
   "source": [
    "#Contamos cuantos valores perdidos con NaN tenemos:\n",
    "df_train.isna().sum()"
   ]
  },
  {
   "cell_type": "code",
   "execution_count": null,
   "metadata": {},
   "outputs": [],
   "source": [
    "msno.matrix(df_train)"
   ]
  },
  {
   "cell_type": "code",
   "execution_count": null,
   "metadata": {},
   "outputs": [],
   "source": [
    "#Hemos de tratar los atributos:binaryClass, age, sex, TSH, T3, T4U, TT4, FTI, TBG y referral source\n",
    "\n",
    "#age\n",
    "df_train['age'].plot.kde().set_xlim(left=-5)\n",
    "df_train['age'].mean()\n",
    "df_train['age'].std()\n",
    "\n",
    "df_train['age'].fillna(value=df_train['age'].mean(), inplace=True)\n",
    "\n",
    "#outlier detectado en la columna de age, quitamos la fila del outlier:\n",
    "plt.figure(figsize=(10,6));\n",
    "sns.boxplot(data=df_train, x=\"age\");\n",
    "\n",
    "Q1 = df_train['age'].quantile(0.25)\n",
    "Q3 = df_train['age'].quantile(0.75)\n",
    "IQR = Q3 - Q1\n",
    "\n",
    "Q1, Q3, IQR\n",
    "\n",
    "small_outliers = df_train['age'] < (Q1 - 1.5 * IQR)\n",
    "big_outliers = df_train['age'] > (Q3 + 1.5 * IQR)\n",
    "\n",
    "sum(small_outliers), sum(big_outliers)\n",
    "\n",
    "df_train['age'] [small_outliers | big_outliers].head()\n",
    "df_train.drop([1364], inplace=True)\n",
    "df_train.info()\n",
    "\n",
    "#quitamos los outliers\n",
    "fig, axes= plt.subplots(1,2, gridspec_kw={'width_ratios': [1, 4]}, figsize=(9,5))\n",
    "df_train[~(small_outliers | big_outliers)].boxplot(column='age',ax=axes[0]);\n",
    "df_train[~(small_outliers | big_outliers)]['age'].plot.kde().set_xlim(left=-10);\n",
    "\n",
    "df_train['age'].mean()\n",
    "df_train['age'].std()\n",
    "\n",
    "#Lo hemos quitado exitosamente\n",
    "plt.figure(figsize=(10,6));\n",
    "sns.boxplot(data=df_train, x=\"age\");"
   ]
  },
  {
   "cell_type": "code",
   "execution_count": null,
   "metadata": {},
   "outputs": [],
   "source": [
    "df_train.info()"
   ]
  },
  {
   "cell_type": "code",
   "execution_count": null,
   "metadata": {},
   "outputs": [],
   "source": [
    "df_train.isna().sum()"
   ]
  },
  {
   "cell_type": "code",
   "execution_count": null,
   "metadata": {},
   "outputs": [],
   "source": [
    "#tratamos la columna TBG\n",
    "df_train.drop('TBG', inplace=True, axis=1)\n",
    "df_train.info()\n",
    "df_train.isna().sum()\n",
    "\n",
    "#tratamos la columna referral source\n",
    "df_train.drop('referral source', inplace=True, axis=1)\n",
    "df_train.info()\n",
    "df_train.isna().sum()"
   ]
  },
  {
   "cell_type": "code",
   "execution_count": null,
   "metadata": {},
   "outputs": [],
   "source": [
    "df_train.hist(figsize = (20,20))"
   ]
  },
  {
   "cell_type": "code",
   "execution_count": null,
   "metadata": {},
   "outputs": [],
   "source": [
    "df_train.describe()"
   ]
  },
  {
   "cell_type": "code",
   "execution_count": null,
   "metadata": {},
   "outputs": [],
   "source": [
    "df_train.info()"
   ]
  },
  {
   "cell_type": "code",
   "execution_count": null,
   "metadata": {},
   "outputs": [],
   "source": [
    "#convertimos la variable de 'sex'\n",
    "df_train['sex'].unique()\n",
    "df_train['sex'].value_counts()\n",
    "\n",
    "#La categoria ? nos muestra que no sabemos el sexo del paciente asi que supondremos que es una mujer ya que tenemos un valor para esta categoria mayor\n",
    "df_train.replace(to_replace='?', inplace=True, value='F')\n",
    "df_train['sex'] = df_train['sex'].astype('category').cat.codes\n",
    "\n",
    "df_train['sex'].unique()\n",
    "df_train['sex'].value_counts()"
   ]
  },
  {
   "cell_type": "code",
   "execution_count": null,
   "metadata": {},
   "outputs": [],
   "source": [
    "df_train.hist(figsize = (20,20))"
   ]
  },
  {
   "cell_type": "code",
   "execution_count": null,
   "metadata": {},
   "outputs": [],
   "source": [
    "df_train.info()"
   ]
  },
  {
   "cell_type": "code",
   "execution_count": null,
   "metadata": {},
   "outputs": [],
   "source": [
    "#convertimos la variable respuesta a binaria\n",
    "df_train['binaryClass'].unique()\n",
    "df_train['binaryClass'].value_counts()\n",
    "\n",
    "df_train['binaryClass'] = df_train['binaryClass'].astype('category').cat.codes"
   ]
  }
 ],
 "metadata": {
  "kernelspec": {
   "display_name": "Python 3 (ipykernel)",
   "language": "python",
   "name": "python3"
  },
  "language_info": {
   "codemirror_mode": {
    "name": "ipython",
    "version": 3
   },
   "file_extension": ".py",
   "mimetype": "text/x-python",
   "name": "python",
   "nbconvert_exporter": "python",
   "pygments_lexer": "ipython3",
   "version": "3.9.12"
  }
 },
 "nbformat": 4,
 "nbformat_minor": 1
}
