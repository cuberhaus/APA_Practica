{
 "cells": [
  {
   "cell_type": "markdown",
   "metadata": {},
   "source": [
    "# Práctica APA - Evaluación preliminar del problema\n",
    "\n",
    "## Aplicación del Aprendizaje Automático en la detección de pacientes con Hipotiroidismo\n",
    "\n",
    "### Autores\n",
    "\n",
    "* Pol Casacuberta Gil\n",
    "* Marta Granero i Martí"
   ]
  },
  {
   "cell_type": "markdown",
   "metadata": {},
   "source": [
    "### Elección del conjunto de datos\n",
    "\n",
    "El objetivo de este informe es exponer de forma breve qué tema hemos escogido juntamente con un leve análisis del Dataset asociado al problema que hemos escogido para llevar a cargo la práctica.\n",
    "\n",
    "El dataset a este problema se puede consultar en [OpenML (Open Machine Learning)](https://www.openml.org/search?type=data&status=any&id=1000), una plataforma abierta dónde se encuentran varios conjuntos de datos.\n",
    "\n",
    "Para poder usar este Dataset, hemos comprobado debidamente que no se ha hecho ya un análisis a este problema usando el mismo, buscando notebooks existentes en [Kaggle](https://www.kaggle.com). \n",
    "\n",
    "Solamente hemos encontrado [4 notebooks](https://www.kaggle.com/datasets/kumar012/hypothyroid/code) donde se intenta resolver este problema aunque usando un Dataset distinto. Estos usan un conjunto de datos que cuenta con 26 columnas a diferencia de las 30 del Dataset que hemos escogido y carecen de las columnas que sí que se incluyen en el nuestro, como son: \n",
    "- **hypopituitary** - toma valores: f, t\n",
    "- **psych** - toma valores: f, t\n",
    "- **referral source** - toma valores: SVHC,other,SVI,STMW,SVHD\n",
    "- **binaryClass** - variable respuesta que toma valores: P si es positivo, o N en otro caso\n",
    "\n",
    "Además hemos comprobado que satisfaga todas las condiciones que se exigen, como siguen:\n",
    "\n",
    "* El conjunto de datos tiene variables numéricas y categóricas\n",
    "* El conjunto de datos no se ha generado sintéticamente\n",
    "* El conjunto de datos tiene 30 variables(en estas se incluye la variable respuesta).\n",
    "* Creemos que tenemos suficiente información sobre el problema para entender y analizar los resultados.\n",
    "* El dataset no está preprocesado ya que cuenta con valores Nan i con valores faltantes en la mayoria de muestras del conjunto de datos.\n",
    "* El conjunto de datos contiene más de 3772 muestras.\n",
    "* El problema es lo suficientemente complejo ya que no hemos obtenido un acierto bueno usando naive bayes ni tampoco una R2 casi perfecta\n",
    "\n",
    "#### Descripción del conjunto de datos\n",
    "\n",
    "* Descripción del conjunto de datos\n",
    "\n",
    "Imagino que hem de donar una breu descripció dels atributs\n",
    "\n",
    "#### Variable respuesta\n",
    "\n",
    "Trataremos con un problema de clasificación binária dónde la variable respuesta será: **binaryClass**. Ésta toma valores categóricos: (P,N) en función de sí un paciente es positivo en Hipotiroidismo(P), o N si este no lo es.\n",
    "\n",
    "#### Problemas específicos de los datos\n",
    "\n",
    "* como atributos relacionados con el tiempo y desbalance entre clases."
   ]
  },
  {
   "cell_type": "markdown",
   "metadata": {},
   "source": [
    "### Descripción del problema\n",
    "\n",
    "En esta práctica desarrollaremos varios modelos de clasificación usando distintos algoritmos de ML para resolver el problema real de detección de pacientes con Hipotiroidismo."
   ]
  },
  {
   "cell_type": "markdown",
   "metadata": {},
   "source": [
    "#### Carga de los datos"
   ]
  },
  {
   "cell_type": "markdown",
   "metadata": {},
   "source": [
    "##### Librerías necesarias"
   ]
  },
  {
   "cell_type": "code",
   "execution_count": null,
   "metadata": {},
   "outputs": [],
   "source": [
    "from scipy.io import arff\n",
    "import pandas as pd"
   ]
  },
  {
   "cell_type": "code",
   "execution_count": null,
   "metadata": {},
   "outputs": [],
   "source": [
    "data = arff.loadarff('hypothyroid.arff')\n",
    "df = pd.DataFrame(data[0])\n",
    "\n",
    "#Primer tratamiento del DataFrame para pasar las columnas de tipo string a formato utf8, ya que sino teníamos b'f'\n",
    "columnes = df.applymap(lambda col: isinstance(col, bytes)).all(0)\n",
    "columnes = df.columns[columnes]\n",
    "\n",
    "df.loc[:, columnes] = df[columnes].applymap(lambda col: col.decode(\"utf-8\", errors='ignore'))\n",
    "df"
   ]
  },
  {
   "cell_type": "markdown",
   "metadata": {},
   "source": [
    "#### Estadística descriptiva"
   ]
  },
  {
   "cell_type": "code",
   "execution_count": null,
   "metadata": {},
   "outputs": [],
   "source": [
    "#Miramos los tipos de los atributos\n",
    "df.dtypes\n",
    "\n",
    "df.head()\n",
    "\n",
    "df.describe(include='all').T"
   ]
  },
  {
   "cell_type": "code",
   "execution_count": null,
   "metadata": {},
   "outputs": [],
   "source": []
  }
 ],
 "metadata": {
  "kernelspec": {
   "display_name": "Python 3 (ipykernel)",
   "language": "python",
   "name": "python3"
  },
  "language_info": {
   "codemirror_mode": {
    "name": "ipython",
    "version": 3
   },
   "file_extension": ".py",
   "mimetype": "text/x-python",
   "name": "python",
   "nbconvert_exporter": "python",
   "pygments_lexer": "ipython3",
   "version": "3.9.12"
  }
 },
 "nbformat": 4,
 "nbformat_minor": 1
}
